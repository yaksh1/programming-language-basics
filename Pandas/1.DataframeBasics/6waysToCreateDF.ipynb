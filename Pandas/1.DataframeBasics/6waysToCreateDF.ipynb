{
 "cells": [
  {
   "cell_type": "code",
   "execution_count": null,
   "metadata": {},
   "outputs": [],
   "source": [
    "import pandas as pd"
   ]
  },
  {
   "cell_type": "code",
   "execution_count": null,
   "metadata": {},
   "outputs": [],
   "source": [
    "#|---------------------------------------------------------------------------|#\n",
    "#| CSV FILE\n",
    "#|---------------------------------------------------------------------------|#\n",
    "\n",
    "df = pd.read_csv('filename.csv')"
   ]
  },
  {
   "cell_type": "code",
   "execution_count": null,
   "metadata": {},
   "outputs": [],
   "source": [
    "#|---------------------------------------------------------------------------|#\n",
    "#| EXCEL FILE\n",
    "#|---------------------------------------------------------------------------|#\n",
    "\n",
    "df = pd.read_excel('filename.xlsx','sheetname')"
   ]
  },
  {
   "cell_type": "code",
   "execution_count": null,
   "metadata": {},
   "outputs": [],
   "source": [
    "#|---------------------------------------------------------------------------|#\n",
    "#| Python Dictionary\n",
    "#|---------------------------------------------------------------------------|#\n",
    "\n",
    "dict={\n",
    "  'name':['yaksh','smit','riya'],\n",
    "  'age':[18,30,28]\n",
    "}\n",
    "df=pd.DataFrame(dict)\n",
    "df"
   ]
  },
  {
   "cell_type": "code",
   "execution_count": null,
   "metadata": {},
   "outputs": [],
   "source": [
    "#|---------------------------------------------------------------------------|#\n",
    "#| TUPLES LIST\n",
    "#|---------------------------------------------------------------------------|#\n",
    "\n",
    "l = [\n",
    "  ('yaskh',18),\n",
    "  ('smit',30),\n",
    "  ('riya',28)\n",
    "]\n",
    "df=pd.DataFrame(l,columns=['name','age'])\n",
    "df"
   ]
  },
  {
   "cell_type": "code",
   "execution_count": null,
   "metadata": {},
   "outputs": [],
   "source": [
    "#|---------------------------------------------------------------------------|#\n",
    "#| LIST WITH DICTIONARIES\n",
    "#|---------------------------------------------------------------------------|#\n",
    "\n",
    "l=[\n",
    "  {'name': 'yaksh','age':18},\n",
    "  {'name': 'smit','age':30},\n",
    "  {'name': 'riya','age':28}\n",
    "]\n",
    "df = pd.DataFrame(l)\n",
    "df"
   ]
  },
  {
   "cell_type": "code",
   "execution_count": null,
   "metadata": {},
   "outputs": [],
   "source": []
  }
 ],
 "metadata": {
  "interpreter": {
   "hash": "63fd5069d213b44bf678585dea6b12cceca9941eaf7f819626cde1f2670de90d"
  },
  "kernelspec": {
   "display_name": "Python 3.9.6 64-bit",
   "language": "python",
   "name": "python3"
  },
  "language_info": {
   "codemirror_mode": {
    "name": "ipython",
    "version": 3
   },
   "file_extension": ".py",
   "mimetype": "text/x-python",
   "name": "python",
   "nbconvert_exporter": "python",
   "pygments_lexer": "ipython3",
   "version": "3.9.6"
  },
  "orig_nbformat": 4
 },
 "nbformat": 4,
 "nbformat_minor": 2
}
