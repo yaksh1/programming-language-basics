{
 "cells": [
  {
   "cell_type": "code",
   "execution_count": 2,
   "metadata": {},
   "outputs": [],
   "source": [
    "import numpy as np\n"
   ]
  },
  {
   "cell_type": "code",
   "execution_count": 16,
   "metadata": {},
   "outputs": [
    {
     "data": {
      "text/plain": [
       "array([[[0.85872138, 0.23871446, 0.05463208],\n",
       "        [0.01667239, 0.82541108, 0.54835904],\n",
       "        [0.81145852, 0.4511074 , 0.77526038]],\n",
       "\n",
       "       [[0.69446292, 0.01005602, 0.46022329],\n",
       "        [0.33338816, 0.77363823, 0.05223689],\n",
       "        [0.07070036, 0.15944704, 0.50370452]],\n",
       "\n",
       "       [[0.27971912, 0.32353863, 0.74475127],\n",
       "        [0.06291323, 0.60716408, 0.07327713],\n",
       "        [0.59790362, 0.43918348, 0.68802527]]])"
      ]
     },
     "execution_count": 16,
     "metadata": {},
     "output_type": "execute_result"
    }
   ],
   "source": [
    "np.random.random((3,3,3))"
   ]
  },
  {
   "cell_type": "code",
   "execution_count": null,
   "metadata": {},
   "outputs": [],
   "source": []
  }
 ],
 "metadata": {
  "interpreter": {
   "hash": "63fd5069d213b44bf678585dea6b12cceca9941eaf7f819626cde1f2670de90d"
  },
  "kernelspec": {
   "display_name": "Python 3.9.6 64-bit",
   "language": "python",
   "name": "python3"
  },
  "language_info": {
   "codemirror_mode": {
    "name": "ipython",
    "version": 3
   },
   "file_extension": ".py",
   "mimetype": "text/x-python",
   "name": "python",
   "nbconvert_exporter": "python",
   "pygments_lexer": "ipython3",
   "version": "3.9.6"
  },
  "orig_nbformat": 4
 },
 "nbformat": 4,
 "nbformat_minor": 2
}
