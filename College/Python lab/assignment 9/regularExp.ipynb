{
 "cells": [
  {
   "cell_type": "code",
   "execution_count": 1,
   "metadata": {},
   "outputs": [],
   "source": [
    "import re"
   ]
  },
  {
   "cell_type": "markdown",
   "metadata": {},
   "source": [
    "### Match Function"
   ]
  },
  {
   "cell_type": "code",
   "execution_count": 2,
   "metadata": {},
   "outputs": [
    {
     "name": "stdout",
     "output_type": "stream",
     "text": [
      "pattern matches\n"
     ]
    }
   ],
   "source": [
    "#-------------------- any five letter starting with a and ending with s --------------------------------\n",
    "pattern = '^a...s$'\n",
    "test_string = input(\"enter string: \")\n",
    "result = re.match(pattern, test_string)\n",
    "if result:\n",
    "  print('pattern matches')\n",
    "else:\n",
    "  print('pattern does not match')"
   ]
  },
  {
   "cell_type": "code",
   "execution_count": 14,
   "metadata": {},
   "outputs": [
    {
     "name": "stdout",
     "output_type": "stream",
     "text": [
      "['12', '69', '420', '69']\n",
      "['h', 'e', 'l', 'l', 'o', ' ', ' ', 'h', 'i', ' ', '.', ' ', 'h', 'o', 'w', ' ', 'a', 'r', 'e', ' ', 'y', 'o', 'u', ' ', ' ', 'a', 'n', 'd', ' ']\n"
     ]
    }
   ],
   "source": [
    "# Program to extract numbers from a string\n",
    "string = 'hello 12 hi 69. how are you 420 and 69'\n",
    "# pattern = '\\d'\n",
    "# pattern = '\\d*'\n",
    "pattern = '\\d+'\n",
    "print(re.findall(pattern,string))\n",
    "pattern = '\\D'\n",
    "print(re.findall(pattern,string))"
   ]
  },
  {
   "cell_type": "code",
   "execution_count": 19,
   "metadata": {},
   "outputs": [
    {
     "name": "stdout",
     "output_type": "stream",
     "text": [
      "['number: ', ' hi mf,', '.']\n"
     ]
    }
   ],
   "source": [
    "# split from numbers\n",
    "string = 'number: 69 hi mf,45.'\n",
    "pattern = '\\d+'\n",
    "print(re.split(pattern,string))"
   ]
  },
  {
   "cell_type": "code",
   "execution_count": 22,
   "metadata": {},
   "outputs": [
    {
     "name": "stdout",
     "output_type": "stream",
     "text": [
      "yes\n"
     ]
    }
   ],
   "source": [
    "# check if 'Python' is at beginning\n",
    "string = 'Python is full of libraries'\n",
    "match = re.search('\\APython',string)\n",
    "if match:\n",
    "  print('yes')\n",
    "else:\n",
    "  print('NO')"
   ]
  },
  {
   "cell_type": "code",
   "execution_count": 23,
   "metadata": {},
   "outputs": [
    {
     "name": "stdout",
     "output_type": "stream",
     "text": [
      "(12, 16)\n",
      "(21, 25)\n"
     ]
    }
   ],
   "source": [
    "str = 'Her name is sita and sita is a bad bad girl'\n",
    "for i in re.finditer(\"sita\",str):\n",
    "  index=i.span()\n",
    "  print(index)"
   ]
  },
  {
   "cell_type": "code",
   "execution_count": 33,
   "metadata": {},
   "outputs": [
    {
     "name": "stdout",
     "output_type": "stream",
     "text": [
      "['Rat', 'Cat', 'Pat', 'Mat', 'Sat', 'Qat', 'Wat']\n"
     ]
    }
   ],
   "source": [
    "string = 'Rat Cat Pat Mat Sat Qat Wat'\n",
    "data = re.findall('[^Z-t]at',string)\n",
    "print(data)"
   ]
  },
  {
   "cell_type": "code",
   "execution_count": null,
   "metadata": {},
   "outputs": [],
   "source": []
  }
 ],
 "metadata": {
  "kernelspec": {
   "display_name": "Python 3.9.10 64-bit",
   "language": "python",
   "name": "python3"
  },
  "language_info": {
   "codemirror_mode": {
    "name": "ipython",
    "version": 3
   },
   "file_extension": ".py",
   "mimetype": "text/x-python",
   "name": "python",
   "nbconvert_exporter": "python",
   "pygments_lexer": "ipython3",
   "version": "3.9.10"
  },
  "orig_nbformat": 4,
  "vscode": {
   "interpreter": {
    "hash": "81794d4967e6c3204c66dcd87b604927b115b27c00565d3d43f05ba2f3a2cb0d"
   }
  }
 },
 "nbformat": 4,
 "nbformat_minor": 2
}
